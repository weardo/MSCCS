{
 "cells": [
  {
   "cell_type": "markdown",
   "id": "recorded-arthur",
   "metadata": {},
   "source": [
    "# Multiple Correlation and Regression\n",
    "### What is it?\n",
    "When there are two or **more than two independent** variables and **one dependent** variable, the analysis concerning relationship is known as multiple correlation and the equation describing such relationship as the multiple regression equation.\n",
    "\n",
    "Lets see simple linear regression first\n",
    "\n",
    "**Simple linear regression** uses a linear function to predict the value of ta target variable y, containing the function only one independent variable X1.\n",
    "\n",
    "y= $b_{o}$ + $b_{1}$$X_{1}$"
   ]
  },
  {
   "cell_type": "code",
   "execution_count": null,
   "id": "exceptional-pressure",
   "metadata": {},
   "outputs": [],
   "source": [
    "import pandas as pd\n",
    "# read the csv file\n",
    "df = pd.read_csv('data/weight-height.csv')\n",
    "\n",
    "# print the first 5 rows of the data set\n",
    "df.head()"
   ]
  },
  {
   "cell_type": "code",
   "execution_count": null,
   "id": "coastal-ontario",
   "metadata": {},
   "outputs": [],
   "source": [
    "df.describe()"
   ]
  },
  {
   "cell_type": "code",
   "execution_count": null,
   "id": "herbal-bhutan",
   "metadata": {},
   "outputs": [],
   "source": [
    "import seaborn as sns\n",
    "\n",
    "# 300 random samples\n",
    "df_males_sample = df[df['Gender'] == 'Male'].sample(300)\n",
    "df_females_sample = df[df['Gender'] == 'Female'].sample(300)\n",
    "\n",
    "# regression plot using seaborn\n",
    "\n",
    "fig = plt.figure(figsize=(10, 7))\n",
    "sns.regplot(x=df_males_sample.Height, y=df_males_sample.Weight, color='blue', marker='+')\n",
    "sns.regplot(x=df_females_sample.Height, y=df_females_sample.Weight, color='magenta', marker='+')\n",
    "\n",
    "# legend, title, and labels.\n",
    "plt.legend(labels=['Males', 'Females'])\n",
    "plt.title('Relationship between Height and Weight', size=24)\n",
    "plt.xlabel('Height (inches)', size=18)\n",
    "plt.ylabel('Weight (pounds)', size=18);"
   ]
  },
  {
   "cell_type": "markdown",
   "id": "periodic-litigation",
   "metadata": {},
   "source": [
    "Multiple linear regression uses a linear function to predict the value of a target variable y, containing the function n independent variable x=[x₁,x₂,x₃,…,xₙ].\n",
    "\n",
    "y =b ₀+b ₁x ₁+b₂x₂+b₃x₃+…+bₙxₙ\n",
    "\n",
    "We obtain the values of the parameters bᵢ, using the same technique as in simple linear regression (least square error). After fitting the model, we can use the equation to predict the value of the target variable y. In our case, we use height and gender to predict the weight of a person Weight = f(Height,Gender)."
   ]
  },
  {
   "cell_type": "code",
   "execution_count": null,
   "id": "democratic-princess",
   "metadata": {},
   "outputs": [],
   "source": [
    "df_dummy = df\n",
    "df_dummy['Gender'] = pd.get_dummies(df['Gender'])['Male']"
   ]
  },
  {
   "cell_type": "code",
   "execution_count": null,
   "id": "annoying-legend",
   "metadata": {},
   "outputs": [],
   "source": [
    "df_dummy.head()"
   ]
  },
  {
   "cell_type": "markdown",
   "id": "honest-applicant",
   "metadata": {},
   "source": [
    "Then, we can use this dataframe to obtain a multiple linear regression model using Scikit-learn."
   ]
  },
  {
   "cell_type": "code",
   "execution_count": null,
   "id": "cosmetic-patient",
   "metadata": {},
   "outputs": [],
   "source": [
    "from sklearn.linear_model import LinearRegression\n",
    "\n",
    "# create linear regression object\n",
    "mlr = LinearRegression()\n",
    "\n",
    "# fit linear regression\n",
    "mlr.fit(df_dummy[['Height', 'Gender']], df_dummy['Weight'])\n",
    "\n",
    "# get the slope and intercept of the line best fit.\n",
    "print(mlr.intercept_)\n",
    "\n",
    "print(mlr.coef_)"
   ]
  },
  {
   "cell_type": "markdown",
   "id": "integral-shore",
   "metadata": {},
   "source": [
    "After fitting the linear equation, we obtain the following multiple linear regression model:\n",
    "\n",
    "    y =b ₀+b ₁x ₁+b₂x₂+b₃x₃+…+bₙxₙ\n",
    "\n",
    "    Weight = -244.9235+5.9769*Height+19.3777*Gender"
   ]
  },
  {
   "cell_type": "code",
   "execution_count": null,
   "id": "demonstrated-syndication",
   "metadata": {},
   "outputs": [],
   "source": [
    "# predicting the result\n",
    "mlr.predict([[81,0]])"
   ]
  },
  {
   "cell_type": "markdown",
   "id": "occupied-rates",
   "metadata": {},
   "source": [
    "# Partial Correlations\n",
    "\n",
    "we’re interested in understanding the relationship between two variables while controlling for a third variable.\n",
    "\n",
    "### Examples:\n",
    "- Studying the relationship between fertilizer and crop yield, keeping the weather conditions \n",
    "    \n",
    "- Studying the relationship between anxiety level and academic achievement, while controlling for the intelligence.\n",
    "    \n",
    "### Assumptions\n",
    "\n",
    "- Assumption1: You have one (dependent) variable and one (independent) variable and these are both measured on a continuous scale (i.e., they are measured on an interval or ration scale)\n",
    "    \n",
    "- Assmption 2: You have one or more control variables, also known as covariates (i.e., control variables are just variables that you are using to adjust the relationships between the other two variables; that is, your dependend and independent variables).\n",
    "    \n",
    "- Assumption 3: These control variables are also measured on a continuous scale (i.e., they are continuous variables).\n",
    "\n",
    "- Assumption 4: There needs to be a linear relationship between all three variables. That is, all possible pairs of variables must show a linear relationship.\n",
    "\n",
    "- Assumption 5: There should be no significant outliers.\n",
    "\n",
    "- Assumption 6: Your variables should be approximately normally distributed."
   ]
  },
  {
   "cell_type": "markdown",
   "id": "mental-potter",
   "metadata": {},
   "source": [
    "Suppose we have the following Pandas DataFrame that displays the current grade, total hours studied, and final exam score for 10 students:\n",
    "\n",
    "we want to measure the association between the number of hours a student studies and the final exam score they receive, while controlling for the student’s current grade in the class. In this case, we could use a partial correlation to measure the relationship between hours studied and final exam score."
   ]
  },
  {
   "cell_type": "code",
   "execution_count": null,
   "id": "coastal-venue",
   "metadata": {},
   "outputs": [],
   "source": [
    "import numpy as np\n",
    "import pandas as pd"
   ]
  },
  {
   "cell_type": "code",
   "execution_count": null,
   "id": "demanding-nicholas",
   "metadata": {},
   "outputs": [],
   "source": [
    "data = {'currentGrade':  [82, 88, 75, 74, 93, 97, 83, 90, 90, 80],\n",
    "        'hours': [4, 3, 6, 5, 4, 5, 8, 7, 4, 6],\n",
    "        'examScore': [88, 85, 76, 70, 92, 94, 89, 85, 90, 93],\n",
    "        }"
   ]
  },
  {
   "cell_type": "code",
   "execution_count": null,
   "id": "secondary-cargo",
   "metadata": {},
   "outputs": [],
   "source": [
    "df = pd.DataFrame(data, columns = ['currentGrade', 'hours', 'examScore'])\n",
    "df"
   ]
  },
  {
   "cell_type": "markdown",
   "id": "collaborative-outreach",
   "metadata": {},
   "source": [
    "To calculate the partial correlation between hours and examScore while controlling for currentGrade, we can use the partial_corr() function from the pingouin package, which uses the following syntax:\n",
    "\n",
    "**partial_corr(data, x, y, covar)**\n",
    "\n",
    "where:\n",
    "\n",
    "- **data:** name of the dataframe\n",
    "\n",
    "- **x, y:** names of columns in the dataframe\n",
    "\n",
    "- **covar:** the name of the covariate column in the dataframe (e.g. the variable you’re controlling for)\n"
   ]
  },
  {
   "cell_type": "code",
   "execution_count": null,
   "id": "distinguished-puppy",
   "metadata": {},
   "outputs": [],
   "source": [
    "import pingouin as pg\n",
    "# find partial correlation between hours and exam score while controlling for grade\n",
    "pg.partial_corr(data=df, x='hours', y='examScore', covar='currentGrade')"
   ]
  },
  {
   "cell_type": "markdown",
   "id": "appropriate-upgrade",
   "metadata": {},
   "source": [
    "We can see that the partial correlation between hours studied and final exam score is 0.190626, which is a small positive correlation. As hours studied increases, exam score tends to increase as well, \n",
    "assuming current grade is held constant.\n",
    "\n",
    "To calculate the partial correlation between multiple variables at once, we can use the **.pcorr()** function:"
   ]
  },
  {
   "cell_type": "code",
   "execution_count": null,
   "id": "enabling-richmond",
   "metadata": {},
   "outputs": [],
   "source": [
    "#calculate all pairwise partial correlations, rounded to three decimal places\n",
    "df.pcorr().round(3)\n"
   ]
  },
  {
   "cell_type": "markdown",
   "id": "useful-virtue",
   "metadata": {},
   "source": [
    "The way to interpret the output is as follows:\n",
    "\n",
    "- The partial correlation between current grade and hours studied is **-0.311**.\n",
    "\n",
    "- The partial correlation between current grade and exam score **0.736**.\n",
    "\n",
    "- The partial correlation between hours studied and exam score **0.191**."
   ]
  },
  {
   "cell_type": "markdown",
   "id": "expired-saudi",
   "metadata": {},
   "source": [
    "References:\n",
    "\n",
    "https://towardsdatascience.com/simple-and-multiple-linear-regression-with-python-c9ab422ec29c\n",
    "https://github.com/weardo/MSCCS/blob/master/RM/Research%20methodology%20methods%20and%20techniques%20by%20Garg%2C%20GauravKothari%2C%20C.%20R%20(z-lib.org).pdf\n",
    "https://www.statology.org/partial-correlation-python/"
   ]
  },
  {
   "cell_type": "code",
   "execution_count": null,
   "id": "cooperative-sucking",
   "metadata": {},
   "outputs": [],
   "source": []
  }
 ],
 "metadata": {
  "kernelspec": {
   "display_name": "Python 3",
   "language": "python",
   "name": "python3"
  },
  "language_info": {
   "codemirror_mode": {
    "name": "ipython",
    "version": 3
   },
   "file_extension": ".py",
   "mimetype": "text/x-python",
   "name": "python",
   "nbconvert_exporter": "python",
   "pygments_lexer": "ipython3",
   "version": "3.8.5"
  }
 },
 "nbformat": 4,
 "nbformat_minor": 5
}
