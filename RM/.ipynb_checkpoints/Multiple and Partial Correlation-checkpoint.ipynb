{
 "cells": [
  {
   "cell_type": "markdown",
   "id": "former-disney",
   "metadata": {},
   "source": [
    "# Multiple Correlation and Regression\n",
    "### What is it?\n",
    "When there are two or more than two independent variables, the analysis concerning relationship is known as multiple correlation and the equation describing such relationship as the multiple regression equation.\n",
    "\n"
   ]
  },
  {
   "cell_type": "code",
   "execution_count": 63,
   "id": "fresh-thong",
   "metadata": {},
   "outputs": [
    {
     "data": {
      "text/html": [
       "<div>\n",
       "<style scoped>\n",
       "    .dataframe tbody tr th:only-of-type {\n",
       "        vertical-align: middle;\n",
       "    }\n",
       "\n",
       "    .dataframe tbody tr th {\n",
       "        vertical-align: top;\n",
       "    }\n",
       "\n",
       "    .dataframe thead th {\n",
       "        text-align: right;\n",
       "    }\n",
       "</style>\n",
       "<table border=\"1\" class=\"dataframe\">\n",
       "  <thead>\n",
       "    <tr style=\"text-align: right;\">\n",
       "      <th></th>\n",
       "      <th>Gender</th>\n",
       "      <th>Height</th>\n",
       "      <th>Weight</th>\n",
       "    </tr>\n",
       "  </thead>\n",
       "  <tbody>\n",
       "    <tr>\n",
       "      <th>0</th>\n",
       "      <td>Male</td>\n",
       "      <td>73.847017</td>\n",
       "      <td>241.893563</td>\n",
       "    </tr>\n",
       "    <tr>\n",
       "      <th>1</th>\n",
       "      <td>Male</td>\n",
       "      <td>68.781904</td>\n",
       "      <td>162.310473</td>\n",
       "    </tr>\n",
       "    <tr>\n",
       "      <th>2</th>\n",
       "      <td>Male</td>\n",
       "      <td>74.110105</td>\n",
       "      <td>212.740856</td>\n",
       "    </tr>\n",
       "    <tr>\n",
       "      <th>3</th>\n",
       "      <td>Male</td>\n",
       "      <td>71.730978</td>\n",
       "      <td>220.042470</td>\n",
       "    </tr>\n",
       "    <tr>\n",
       "      <th>4</th>\n",
       "      <td>Male</td>\n",
       "      <td>69.881796</td>\n",
       "      <td>206.349801</td>\n",
       "    </tr>\n",
       "  </tbody>\n",
       "</table>\n",
       "</div>"
      ],
      "text/plain": [
       "  Gender     Height      Weight\n",
       "0   Male  73.847017  241.893563\n",
       "1   Male  68.781904  162.310473\n",
       "2   Male  74.110105  212.740856\n",
       "3   Male  71.730978  220.042470\n",
       "4   Male  69.881796  206.349801"
      ]
     },
     "execution_count": 63,
     "metadata": {},
     "output_type": "execute_result"
    }
   ],
   "source": [
    "import pandas as pd\n",
    "# read the csv file\n",
    "df = pd.read_csv('data/weight-height.csv')\n",
    "\n",
    "# print the first 5 rows of the data set\n",
    "df.head()"
   ]
  },
  {
   "cell_type": "code",
   "execution_count": 64,
   "id": "sharp-highway",
   "metadata": {},
   "outputs": [
    {
     "data": {
      "text/html": [
       "<div>\n",
       "<style scoped>\n",
       "    .dataframe tbody tr th:only-of-type {\n",
       "        vertical-align: middle;\n",
       "    }\n",
       "\n",
       "    .dataframe tbody tr th {\n",
       "        vertical-align: top;\n",
       "    }\n",
       "\n",
       "    .dataframe thead th {\n",
       "        text-align: right;\n",
       "    }\n",
       "</style>\n",
       "<table border=\"1\" class=\"dataframe\">\n",
       "  <thead>\n",
       "    <tr style=\"text-align: right;\">\n",
       "      <th></th>\n",
       "      <th>Height</th>\n",
       "      <th>Weight</th>\n",
       "    </tr>\n",
       "  </thead>\n",
       "  <tbody>\n",
       "    <tr>\n",
       "      <th>count</th>\n",
       "      <td>10000.000000</td>\n",
       "      <td>10000.000000</td>\n",
       "    </tr>\n",
       "    <tr>\n",
       "      <th>mean</th>\n",
       "      <td>66.367560</td>\n",
       "      <td>161.440357</td>\n",
       "    </tr>\n",
       "    <tr>\n",
       "      <th>std</th>\n",
       "      <td>3.847528</td>\n",
       "      <td>32.108439</td>\n",
       "    </tr>\n",
       "    <tr>\n",
       "      <th>min</th>\n",
       "      <td>54.263133</td>\n",
       "      <td>64.700127</td>\n",
       "    </tr>\n",
       "    <tr>\n",
       "      <th>25%</th>\n",
       "      <td>63.505620</td>\n",
       "      <td>135.818051</td>\n",
       "    </tr>\n",
       "    <tr>\n",
       "      <th>50%</th>\n",
       "      <td>66.318070</td>\n",
       "      <td>161.212928</td>\n",
       "    </tr>\n",
       "    <tr>\n",
       "      <th>75%</th>\n",
       "      <td>69.174262</td>\n",
       "      <td>187.169525</td>\n",
       "    </tr>\n",
       "    <tr>\n",
       "      <th>max</th>\n",
       "      <td>78.998742</td>\n",
       "      <td>269.989699</td>\n",
       "    </tr>\n",
       "  </tbody>\n",
       "</table>\n",
       "</div>"
      ],
      "text/plain": [
       "             Height        Weight\n",
       "count  10000.000000  10000.000000\n",
       "mean      66.367560    161.440357\n",
       "std        3.847528     32.108439\n",
       "min       54.263133     64.700127\n",
       "25%       63.505620    135.818051\n",
       "50%       66.318070    161.212928\n",
       "75%       69.174262    187.169525\n",
       "max       78.998742    269.989699"
      ]
     },
     "execution_count": 64,
     "metadata": {},
     "output_type": "execute_result"
    }
   ],
   "source": [
    "df.describe()"
   ]
  },
  {
   "cell_type": "markdown",
   "id": "smaller-remedy",
   "metadata": {},
   "source": [
    "**Simple linear regression** uses a linear function to predict the value of ta target variable y, containing the function only one independent variable X1.\n",
    "\n",
    "y= $b_{o}$ + $b_{1}$$X_{1}$"
   ]
  },
  {
   "cell_type": "code",
   "execution_count": 68,
   "id": "fallen-suggestion",
   "metadata": {},
   "outputs": [
    {
     "data": {
      "text/html": [
       "<div>\n",
       "<style scoped>\n",
       "    .dataframe tbody tr th:only-of-type {\n",
       "        vertical-align: middle;\n",
       "    }\n",
       "\n",
       "    .dataframe tbody tr th {\n",
       "        vertical-align: top;\n",
       "    }\n",
       "\n",
       "    .dataframe thead th {\n",
       "        text-align: right;\n",
       "    }\n",
       "</style>\n",
       "<table border=\"1\" class=\"dataframe\">\n",
       "  <thead>\n",
       "    <tr style=\"text-align: right;\">\n",
       "      <th></th>\n",
       "      <th>Height</th>\n",
       "      <th>Weight</th>\n",
       "    </tr>\n",
       "  </thead>\n",
       "  <tbody>\n",
       "    <tr>\n",
       "      <th>Height</th>\n",
       "      <td>1.000000</td>\n",
       "      <td>0.849609</td>\n",
       "    </tr>\n",
       "    <tr>\n",
       "      <th>Weight</th>\n",
       "      <td>0.849609</td>\n",
       "      <td>1.000000</td>\n",
       "    </tr>\n",
       "  </tbody>\n",
       "</table>\n",
       "</div>"
      ],
      "text/plain": [
       "          Height    Weight\n",
       "Height  1.000000  0.849609\n",
       "Weight  0.849609  1.000000"
      ]
     },
     "execution_count": 68,
     "metadata": {},
     "output_type": "execute_result"
    }
   ],
   "source": [
    "# dataframe containing only females\n",
    "df_females = df[df['Gender'] == 'Female']\n",
    "\n",
    "# correlation coefficients \n",
    "df_females.corr()"
   ]
  },
  {
   "cell_type": "code",
   "execution_count": 67,
   "id": "fossil-second",
   "metadata": {},
   "outputs": [
    {
     "data": {
      "image/png": "[encoded data removed]",
      "text/plain": [
       "<Figure size 720x504 with 1 Axes>"
      ]
     },
     "metadata": {
      "needs_background": "light"
     },
     "output_type": "display_data"
    }
   ],
   "source": [
    "import seaborn as sns\n",
    "\n",
    "# 300 random samples\n",
    "df_males_sample = df[df['Gender'] == 'Male'].sample(300)\n",
    "df_females_sample = df[df['Gender'] == 'Female'].sample(300)\n",
    "\n",
    "# regression plot using seaborn\n",
    "fig = plt.figure(figsize=(10, 7))\n",
    "sns.regplot(x=df_males_sample.Height, y=df_males_sample.Weight, color='blue', marker='+')\n",
    "sns.regplot(x=df_females_sample.Height, y=df_females_sample.Weight, color='magenta', marker='+')\n",
    "\n",
    "# legend, title, and labels.\n",
    "plt.legend(labels=['Males', 'Females'])\n",
    "plt.title('Relationship between Height and Weight', size=24)\n",
    "plt.xlabel('Height (inches)', size=18)\n",
    "plt.ylabel('Weight (pounds)', size=18);"
   ]
  },
  {
   "cell_type": "markdown",
   "id": "cellular-rally",
   "metadata": {},
   "source": [
    "Multiple linear regression uses a linear function to predict the value of a target variable y, containing the function n independent variable x=[x₁,x₂,x₃,…,xₙ].\n",
    "\n",
    "y =b ₀+b ₁x ₁+b₂x₂+b₃x₃+…+bₙxₙ"
   ]
  },
  {
   "cell_type": "code",
   "execution_count": 40,
   "id": "patent-instrumentation",
   "metadata": {},
   "outputs": [],
   "source": [
    "df_dummy = df\n",
    "df_dummy['Gender'] = pd.get_dummies(df['Gender'])['Male']"
   ]
  },
  {
   "cell_type": "code",
   "execution_count": 42,
   "id": "adaptive-carbon",
   "metadata": {},
   "outputs": [
    {
     "data": {
      "text/html": [
       "<div>\n",
       "<style scoped>\n",
       "    .dataframe tbody tr th:only-of-type {\n",
       "        vertical-align: middle;\n",
       "    }\n",
       "\n",
       "    .dataframe tbody tr th {\n",
       "        vertical-align: top;\n",
       "    }\n",
       "\n",
       "    .dataframe thead th {\n",
       "        text-align: right;\n",
       "    }\n",
       "</style>\n",
       "<table border=\"1\" class=\"dataframe\">\n",
       "  <thead>\n",
       "    <tr style=\"text-align: right;\">\n",
       "      <th></th>\n",
       "      <th>Gender</th>\n",
       "      <th>Height</th>\n",
       "      <th>Weight</th>\n",
       "    </tr>\n",
       "  </thead>\n",
       "  <tbody>\n",
       "    <tr>\n",
       "      <th>0</th>\n",
       "      <td>1</td>\n",
       "      <td>73.847017</td>\n",
       "      <td>241.893563</td>\n",
       "    </tr>\n",
       "    <tr>\n",
       "      <th>1</th>\n",
       "      <td>1</td>\n",
       "      <td>68.781904</td>\n",
       "      <td>162.310473</td>\n",
       "    </tr>\n",
       "    <tr>\n",
       "      <th>2</th>\n",
       "      <td>1</td>\n",
       "      <td>74.110105</td>\n",
       "      <td>212.740856</td>\n",
       "    </tr>\n",
       "    <tr>\n",
       "      <th>3</th>\n",
       "      <td>1</td>\n",
       "      <td>71.730978</td>\n",
       "      <td>220.042470</td>\n",
       "    </tr>\n",
       "    <tr>\n",
       "      <th>4</th>\n",
       "      <td>1</td>\n",
       "      <td>69.881796</td>\n",
       "      <td>206.349801</td>\n",
       "    </tr>\n",
       "  </tbody>\n",
       "</table>\n",
       "</div>"
      ],
      "text/plain": [
       "   Gender     Height      Weight\n",
       "0       1  73.847017  241.893563\n",
       "1       1  68.781904  162.310473\n",
       "2       1  74.110105  212.740856\n",
       "3       1  71.730978  220.042470\n",
       "4       1  69.881796  206.349801"
      ]
     },
     "execution_count": 42,
     "metadata": {},
     "output_type": "execute_result"
    }
   ],
   "source": [
    "df_dummy.head()"
   ]
  },
  {
   "cell_type": "markdown",
   "id": "dental-shoot",
   "metadata": {},
   "source": [
    "Then, we can use this dataframe to obtain a multiple linear regression model using Scikit-learn."
   ]
  },
  {
   "cell_type": "code",
   "execution_count": 47,
   "id": "common-abraham",
   "metadata": {},
   "outputs": [
    {
     "name": "stdout",
     "output_type": "stream",
     "text": [
      "-244.9235025206997\n",
      "[ 5.97694123 19.37771052]\n"
     ]
    }
   ],
   "source": [
    "from sklearn.linear_model import LinearRegression\n",
    "\n",
    "# create linear regression object\n",
    "mlr = LinearRegression()\n",
    "\n",
    "# fit linear regression\n",
    "mlr.fit(df_dummy[['Height', 'Gender']], df_dummy['Weight'])\n",
    "\n",
    "# get the slope and intercept of the line best fit.\n",
    "print(mlr.intercept_)\n",
    "\n",
    "print(mlr.coef_)"
   ]
  },
  {
   "cell_type": "markdown",
   "id": "annual-regular",
   "metadata": {},
   "source": [
    "After fitting the linear equation, we obtain the following multiple linear regression model:\n",
    "\n",
    "    y =b ₀+b ₁x ₁+b₂x₂+b₃x₃+…+bₙxₙ\n",
    "\n",
    "    Weight = -244.9235+5.9769*Height+19.3777*Gender"
   ]
  },
  {
   "cell_type": "markdown",
   "id": "further-department",
   "metadata": {},
   "source": [
    "# Partial Correlations\n",
    "\n",
    "we’re interested in understanding the relationship between two variables while controlling for a third variable.\n",
    "\n",
    "### Examples:\n",
    "- Studying the relationship between fertilizer and crop yield, keeping the weather conditions \n",
    "    \n",
    "- Studying the relationship between anxiety level and academic achievement, while controlling for the intelligence.\n",
    "    \n",
    "### Assumptions\n",
    "\n",
    "- Assumption1: You have one (dependent) variable and one (independent) variable and these are both measured on a continuous scale (i.e., they are measured on an interval or ration scale)\n",
    "    \n",
    "- Assmption 2: You have one or more control variables, also known as covariates (i.e., control variables are just variables that you are using to adjust the relationships between the other two variables; that is, your dependend and independent variables).\n",
    "    \n",
    "- Assumption 3: These control variables are also measured on a continuous scale (i.e., they are continuous variables).\n",
    "\n",
    "- Assumption 4: There needs to be a linear relationship between all three variables. That is, all possible pairs of variables must show a linear relationship.\n",
    "\n",
    "- Assumption 5: There should be no significant outliers.\n",
    "\n",
    "- Assumption 6: Your variables should be approximately normally distributed."
   ]
  },
  {
   "cell_type": "markdown",
   "id": "still-hypothesis",
   "metadata": {},
   "source": [
    "Suppose we have the following Pandas DataFrame that displays the current grade, total hours studied, and final exam score for 10 students:\n",
    "\n",
    "we want to measure the association between the number of hours a student studies and the final exam score they receive, while controlling for the student’s current grade in the class. In this case, we could use a partial correlation to measure the relationship between hours studied and final exam score."
   ]
  },
  {
   "cell_type": "code",
   "execution_count": 4,
   "id": "religious-eight",
   "metadata": {},
   "outputs": [],
   "source": [
    "import numpy as np\n",
    "import pandas as pd"
   ]
  },
  {
   "cell_type": "code",
   "execution_count": 5,
   "id": "alone-confidence",
   "metadata": {},
   "outputs": [],
   "source": [
    "data = {'currentGrade':  [82, 88, 75, 74, 93, 97, 83, 90, 90, 80],\n",
    "        'hours': [4, 3, 6, 5, 4, 5, 8, 7, 4, 6],\n",
    "        'examScore': [88, 85, 76, 70, 92, 94, 89, 85, 90, 93],\n",
    "        }"
   ]
  },
  {
   "cell_type": "code",
   "execution_count": 7,
   "id": "opponent-request",
   "metadata": {},
   "outputs": [
    {
     "data": {
      "text/html": [
       "<div>\n",
       "<style scoped>\n",
       "    .dataframe tbody tr th:only-of-type {\n",
       "        vertical-align: middle;\n",
       "    }\n",
       "\n",
       "    .dataframe tbody tr th {\n",
       "        vertical-align: top;\n",
       "    }\n",
       "\n",
       "    .dataframe thead th {\n",
       "        text-align: right;\n",
       "    }\n",
       "</style>\n",
       "<table border=\"1\" class=\"dataframe\">\n",
       "  <thead>\n",
       "    <tr style=\"text-align: right;\">\n",
       "      <th></th>\n",
       "      <th>currentGrade</th>\n",
       "      <th>hours</th>\n",
       "      <th>examScore</th>\n",
       "    </tr>\n",
       "  </thead>\n",
       "  <tbody>\n",
       "    <tr>\n",
       "      <th>0</th>\n",
       "      <td>82</td>\n",
       "      <td>4</td>\n",
       "      <td>88</td>\n",
       "    </tr>\n",
       "    <tr>\n",
       "      <th>1</th>\n",
       "      <td>88</td>\n",
       "      <td>3</td>\n",
       "      <td>85</td>\n",
       "    </tr>\n",
       "    <tr>\n",
       "      <th>2</th>\n",
       "      <td>75</td>\n",
       "      <td>6</td>\n",
       "      <td>76</td>\n",
       "    </tr>\n",
       "    <tr>\n",
       "      <th>3</th>\n",
       "      <td>74</td>\n",
       "      <td>5</td>\n",
       "      <td>70</td>\n",
       "    </tr>\n",
       "    <tr>\n",
       "      <th>4</th>\n",
       "      <td>93</td>\n",
       "      <td>4</td>\n",
       "      <td>92</td>\n",
       "    </tr>\n",
       "    <tr>\n",
       "      <th>5</th>\n",
       "      <td>97</td>\n",
       "      <td>5</td>\n",
       "      <td>94</td>\n",
       "    </tr>\n",
       "    <tr>\n",
       "      <th>6</th>\n",
       "      <td>83</td>\n",
       "      <td>8</td>\n",
       "      <td>89</td>\n",
       "    </tr>\n",
       "    <tr>\n",
       "      <th>7</th>\n",
       "      <td>90</td>\n",
       "      <td>7</td>\n",
       "      <td>85</td>\n",
       "    </tr>\n",
       "    <tr>\n",
       "      <th>8</th>\n",
       "      <td>90</td>\n",
       "      <td>4</td>\n",
       "      <td>90</td>\n",
       "    </tr>\n",
       "    <tr>\n",
       "      <th>9</th>\n",
       "      <td>80</td>\n",
       "      <td>6</td>\n",
       "      <td>93</td>\n",
       "    </tr>\n",
       "  </tbody>\n",
       "</table>\n",
       "</div>"
      ],
      "text/plain": [
       "   currentGrade  hours  examScore\n",
       "0            82      4         88\n",
       "1            88      3         85\n",
       "2            75      6         76\n",
       "3            74      5         70\n",
       "4            93      4         92\n",
       "5            97      5         94\n",
       "6            83      8         89\n",
       "7            90      7         85\n",
       "8            90      4         90\n",
       "9            80      6         93"
      ]
     },
     "execution_count": 7,
     "metadata": {},
     "output_type": "execute_result"
    }
   ],
   "source": [
    "df = pd.DataFrame(data, columns = ['currentGrade', 'hours', 'examScore'])\n",
    "df"
   ]
  },
  {
   "cell_type": "markdown",
   "id": "judicial-thumbnail",
   "metadata": {},
   "source": [
    "To calculate the partial correlation between hours and examScore while controlling for currentGrade, we can use the partial_corr() function from the pingouin package, which uses the following syntax:\n",
    "\n",
    "**partial_corr(data, x, y, covar)**\n",
    "\n",
    "where:\n",
    "\n",
    "- **data:** name of the dataframe\n",
    "\n",
    "- **x, y:** names of columns in the dataframe\n",
    "\n",
    "- **covar:** the name of the covariate column in the dataframe (e.g. the variable you’re controlling for)\n"
   ]
  },
  {
   "cell_type": "code",
   "execution_count": 11,
   "id": "floppy-richards",
   "metadata": {},
   "outputs": [
    {
     "data": {
      "text/html": [
       "<div>\n",
       "<style scoped>\n",
       "    .dataframe tbody tr th:only-of-type {\n",
       "        vertical-align: middle;\n",
       "    }\n",
       "\n",
       "    .dataframe tbody tr th {\n",
       "        vertical-align: top;\n",
       "    }\n",
       "\n",
       "    .dataframe thead th {\n",
       "        text-align: right;\n",
       "    }\n",
       "</style>\n",
       "<table border=\"1\" class=\"dataframe\">\n",
       "  <thead>\n",
       "    <tr style=\"text-align: right;\">\n",
       "      <th></th>\n",
       "      <th>n</th>\n",
       "      <th>r</th>\n",
       "      <th>CI95%</th>\n",
       "      <th>r2</th>\n",
       "      <th>adj_r2</th>\n",
       "      <th>p-val</th>\n",
       "      <th>BF10</th>\n",
       "      <th>power</th>\n",
       "    </tr>\n",
       "  </thead>\n",
       "  <tbody>\n",
       "    <tr>\n",
       "      <th>pearson</th>\n",
       "      <td>10</td>\n",
       "      <td>0.190626</td>\n",
       "      <td>[-0.5, 0.73]</td>\n",
       "      <td>0.036338</td>\n",
       "      <td>-0.238994</td>\n",
       "      <td>0.597831</td>\n",
       "      <td>0.438</td>\n",
       "      <td>0.08223</td>\n",
       "    </tr>\n",
       "  </tbody>\n",
       "</table>\n",
       "</div>"
      ],
      "text/plain": [
       "          n         r         CI95%        r2    adj_r2     p-val   BF10  \\\n",
       "pearson  10  0.190626  [-0.5, 0.73]  0.036338 -0.238994  0.597831  0.438   \n",
       "\n",
       "           power  \n",
       "pearson  0.08223  "
      ]
     },
     "execution_count": 11,
     "metadata": {},
     "output_type": "execute_result"
    }
   ],
   "source": [
    "import pingouin as pg\n",
    "# find partial correlation between hours and exam score while controlling for grade\n",
    "pg.partial_corr(data=df, x='hours', y='examScore', covar='currentGrade')"
   ]
  },
  {
   "cell_type": "markdown",
   "id": "instant-smile",
   "metadata": {},
   "source": [
    "We can see that the partial correlation between hours studied and final exam score is 0.190626, which is a small positive correlation. As hours studied increases, exam score tends to increase as well, assuming current grade is held constant.\n",
    "\n",
    "To calculate the partial correlation between multiple variables at once, we can use the **.pcorr()** function:"
   ]
  },
  {
   "cell_type": "code",
   "execution_count": 12,
   "id": "driving-cathedral",
   "metadata": {},
   "outputs": [
    {
     "data": {
      "text/html": [
       "<div>\n",
       "<style scoped>\n",
       "    .dataframe tbody tr th:only-of-type {\n",
       "        vertical-align: middle;\n",
       "    }\n",
       "\n",
       "    .dataframe tbody tr th {\n",
       "        vertical-align: top;\n",
       "    }\n",
       "\n",
       "    .dataframe thead th {\n",
       "        text-align: right;\n",
       "    }\n",
       "</style>\n",
       "<table border=\"1\" class=\"dataframe\">\n",
       "  <thead>\n",
       "    <tr style=\"text-align: right;\">\n",
       "      <th></th>\n",
       "      <th>currentGrade</th>\n",
       "      <th>hours</th>\n",
       "      <th>examScore</th>\n",
       "    </tr>\n",
       "  </thead>\n",
       "  <tbody>\n",
       "    <tr>\n",
       "      <th>currentGrade</th>\n",
       "      <td>1.000</td>\n",
       "      <td>-0.311</td>\n",
       "      <td>0.736</td>\n",
       "    </tr>\n",
       "    <tr>\n",
       "      <th>hours</th>\n",
       "      <td>-0.311</td>\n",
       "      <td>1.000</td>\n",
       "      <td>0.191</td>\n",
       "    </tr>\n",
       "    <tr>\n",
       "      <th>examScore</th>\n",
       "      <td>0.736</td>\n",
       "      <td>0.191</td>\n",
       "      <td>1.000</td>\n",
       "    </tr>\n",
       "  </tbody>\n",
       "</table>\n",
       "</div>"
      ],
      "text/plain": [
       "              currentGrade  hours  examScore\n",
       "currentGrade         1.000 -0.311      0.736\n",
       "hours               -0.311  1.000      0.191\n",
       "examScore            0.736  0.191      1.000"
      ]
     },
     "execution_count": 12,
     "metadata": {},
     "output_type": "execute_result"
    }
   ],
   "source": [
    "#calculate all pairwise partial correlations, rounded to three decimal places\n",
    "df.pcorr().round(3)\n"
   ]
  },
  {
   "cell_type": "markdown",
   "id": "reliable-basketball",
   "metadata": {},
   "source": [
    "The way to interpret the output is as follows:\n",
    "\n",
    "- The partial correlation between current grade and hours studied is **-0.311**.\n",
    "\n",
    "- The partial correlation between current grade and exam score **0.736**.\n",
    "\n",
    "- The partial correlation between hours studied and exam score **0.191**."
   ]
  },
  {
   "cell_type": "markdown",
   "id": "decimal-compilation",
   "metadata": {},
   "source": [
    "References:\n",
    "https://towardsdatascience.com/simple-and-multiple-linear-regression-with-python-c9ab422ec29c\n",
    "https://github.com/weardo/MSCCS/blob/master/RM/Research%20methodology%20methods%20and%20techniques%20by%20Garg%2C%20GauravKothari%2C%20C.%20R%20(z-lib.org).pdf\n"
   ]
  }
 ],
 "metadata": {
  "kernelspec": {
   "display_name": "Python 3",
   "language": "python",
   "name": "python3"
  },
  "language_info": {
   "codemirror_mode": {
    "name": "ipython",
    "version": 3
   },
   "file_extension": ".py",
   "mimetype": "text/x-python",
   "name": "python",
   "nbconvert_exporter": "python",
   "pygments_lexer": "ipython3",
   "version": "3.8.5"
  }
 },
 "nbformat": 4,
 "nbformat_minor": 5
}
