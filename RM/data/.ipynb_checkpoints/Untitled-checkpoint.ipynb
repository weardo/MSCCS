{
 "cells": [
  {
   "cell_type": "code",
   "execution_count": 1,
   "metadata": {},
   "outputs": [],
   "source": [
    "## importing bs4, requests, fake_useragent and csv modules\n",
    "import bs4\n",
    "import requests\n",
    "from fake_useragent import UserAgent\n",
    "import csv\n",
    "\n",
    "## create an array with URLs\n",
    "urls = ['https://www.usnews.com/education/best-global-universities/harvard-university-166027']\n",
    "\n",
    "## initializing the UserAgent object\n",
    "user_agent = UserAgent()\n",
    "\n",
    "## starting the loop\n"
   ]
  },
  {
   "cell_type": "code",
   "execution_count": null,
   "metadata": {},
   "outputs": [],
   "source": [
    "for url in urls:\n",
    "    ## getting the reponse from the page using get method of requests module\n",
    "    page = requests.get(url, headers={\"user-agent\": user_agent.chrome})\n",
    "\n",
    "    ## storing the content of the page in a variable\n",
    "    html = page.content\n",
    "\n",
    "    ## creating BeautifulSoup object\n",
    "    soup = bs4.BeautifulSoup(html, \"html.parser\")\n",
    "    print(\"as\")\n",
    "\n",
    "    ## Then parse the HTML, extract any data\n",
    "    ## write it to a file\n"
   ]
  },
  {
   "cell_type": "code",
   "execution_count": null,
   "metadata": {},
   "outputs": [],
   "source": [
    "for a_link in urls:\n",
    "    res = requests.get(a_link).text\n",
    "    soup = BeautifulSoup(res, 'html.parser')\n",
    "    if soup.select_one('a.WebsiteIconLink__IconAnchor-sc-1amphun-0'):\n",
    "      print(\"Title:\" + soup.select_one('a.WebsiteIconLink__IconAnchor-sc-1amphun-0').text)\n"
   ]
  },
  {
   "cell_type": "code",
   "execution_count": null,
   "metadata": {},
   "outputs": [],
   "source": []
  }
 ],
 "metadata": {
  "kernelspec": {
   "display_name": "Python 3",
   "language": "python",
   "name": "python3"
  },
  "language_info": {
   "codemirror_mode": {
    "name": "ipython",
    "version": 3
   },
   "file_extension": ".py",
   "mimetype": "text/x-python",
   "name": "python",
   "nbconvert_exporter": "python",
   "pygments_lexer": "ipython3",
   "version": "3.7.4"
  }
 },
 "nbformat": 4,
 "nbformat_minor": 4
}
